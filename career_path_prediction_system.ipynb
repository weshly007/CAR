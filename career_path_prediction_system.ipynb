{
  "cells": [
    {
      "cell_type": "code",
      "execution_count": null,
      "metadata": {
        "id": "GVIg4ZOYP9TS"
      },
      "outputs": [],
      "source": [
        "import numpy as np\n",
        "import pandas as pd\n",
        "from sklearn.metrics import confusion_matrix,accuracy_score"
      ]
    },
    {
      "cell_type": "code",
      "execution_count": null,
      "metadata": {
        "id": "thXaZhU4QJWo"
      },
      "outputs": [],
      "source": [
        "data = pd.read_csv('prediction-data.csv')"
      ]
    },
    {
      "cell_type": "code",
      "execution_count": null,
      "metadata": {
        "colab": {
          "base_uri": "https://localhost:8080/",
          "height": 397
        },
        "id": "IJbm2Y0Ugqd4",
        "outputId": "f044203e-5dc8-4683-9a27-cb64cab5949f"
      },
      "outputs": [
        {
          "ename": "",
          "evalue": "",
          "output_type": "error",
          "traceback": [
            "\u001b[1;31mRunning cells with 'Python 3.12.3' requires the ipykernel package.\n",
            "\u001b[1;31mRun the following command to install 'ipykernel' into the Python environment. \n",
            "\u001b[1;31mCommand: '/bin/python3 -m pip install ipykernel -U --user --force-reinstall'"
          ]
        }
      ],
      "source": [
        "## Shows the first 5 rows of the dataframe\n",
        "data.head()"
      ]
    },
    {
      "cell_type": "code",
      "execution_count": null,
      "metadata": {
        "colab": {
          "base_uri": "https://localhost:8080/"
        },
        "id": "XClCPqw-gy3L",
        "outputId": "a543e6e5-95c5-4005-adc2-f24c59fd66ac"
      },
      "outputs": [],
      "source": [
        "## Number of rows and columns\n",
        "data.shape"
      ]
    },
    {
      "cell_type": "code",
      "execution_count": null,
      "metadata": {
        "colab": {
          "base_uri": "https://localhost:8080/"
        },
        "id": "nryNSjgwiceC",
        "outputId": "967cc6a0-d4d4-4c12-8190-9745f5c1094e"
      },
      "outputs": [],
      "source": [
        "## Getting some informations about the dataset\n",
        "data.info()"
      ]
    },
    {
      "cell_type": "code",
      "execution_count": null,
      "metadata": {
        "colab": {
          "base_uri": "https://localhost:8080/",
          "height": 711
        },
        "id": "mRXVNwyKieZg",
        "outputId": "1ab9663e-2ff2-49ad-f5ed-87c74eb845cd"
      },
      "outputs": [],
      "source": [
        "## Checking for missing values\n",
        "data.isnull().sum(axis=0)"
      ]
    },
    {
      "cell_type": "markdown",
      "metadata": {
        "id": "u0m7xqdxFf-x"
      },
      "source": [
        "No missing values in the dataset"
      ]
    },
    {
      "cell_type": "code",
      "execution_count": null,
      "metadata": {
        "colab": {
          "base_uri": "https://localhost:8080/",
          "height": 300
        },
        "id": "XeaCOyTNjPLk",
        "outputId": "7b75999b-8f73-4f13-96f0-29aa552e6120"
      },
      "outputs": [],
      "source": [
        "## statistical Measures of the dataset\n",
        "data.describe()"
      ]
    },
    {
      "cell_type": "code",
      "execution_count": null,
      "metadata": {
        "colab": {
          "base_uri": "https://localhost:8080/"
        },
        "id": "vBmNHMwjECVf",
        "outputId": "492b86e2-a4dc-4d6c-82db-11b12228cb56"
      },
      "outputs": [],
      "source": [
        "print(\"List of Numerical features: \\n\" , data.select_dtypes(include=np.number).columns.tolist())\n",
        "print(\"\\n\\nList of Categorical features: \\n\" , data.select_dtypes(include=['object']).columns.tolist())"
      ]
    },
    {
      "cell_type": "markdown",
      "metadata": {
        "id": "PhsbLjrxj7ao"
      },
      "source": []
    },
    {
      "cell_type": "markdown",
      "metadata": {
        "id": "_R-VCz2MzuzO"
      },
      "source": [
        "### Visualization for Categorical Variables"
      ]
    },
    {
      "cell_type": "code",
      "execution_count": null,
      "metadata": {
        "colab": {
          "base_uri": "https://localhost:8080/"
        },
        "id": "zkKi0IXeRFI9",
        "outputId": "a5db4081-fda9-46ee-8b5a-6c532792b7f9"
      },
      "outputs": [],
      "source": [
        "print(data[\"Logical quotient rating\"].value_counts())"
      ]
    },
    {
      "cell_type": "code",
      "execution_count": null,
      "metadata": {
        "colab": {
          "base_uri": "https://localhost:8080/"
        },
        "id": "Mb8ytwaIRV9o",
        "outputId": "b44a7be3-86f3-4f82-c0bd-a32add3b4082"
      },
      "outputs": [],
      "source": [
        "print(data[\"hackathons\"].value_counts())"
      ]
    },
    {
      "cell_type": "code",
      "execution_count": null,
      "metadata": {
        "colab": {
          "base_uri": "https://localhost:8080/"
        },
        "id": "cyNI-CPTRiBs",
        "outputId": "fa1b1854-3adf-4156-c0aa-33aaf4e6e013"
      },
      "outputs": [],
      "source": [
        "print(data[\"coding skills rating\"].value_counts())"
      ]
    },
    {
      "cell_type": "code",
      "execution_count": null,
      "metadata": {
        "colab": {
          "base_uri": "https://localhost:8080/"
        },
        "id": "ELiScL3ARn5p",
        "outputId": "946987f2-996a-4e37-c874-0f93cb4eb333"
      },
      "outputs": [],
      "source": [
        "print(data[\"public speaking points\"].value_counts())"
      ]
    },
    {
      "cell_type": "code",
      "execution_count": null,
      "metadata": {
        "colab": {
          "base_uri": "https://localhost:8080/"
        },
        "id": "GMPvIZW9zhtr",
        "outputId": "99fbabe7-14f2-4da6-f7b9-cf60e54fbeaa"
      },
      "outputs": [],
      "source": [
        "print(data[\"interested career area \"].value_counts())"
      ]
    },
    {
      "cell_type": "code",
      "execution_count": null,
      "metadata": {
        "colab": {
          "base_uri": "https://localhost:8080/"
        },
        "id": "hRzpIzQixGVE",
        "outputId": "532bba97-a6b3-4578-d934-a012f933e4b5"
      },
      "outputs": [],
      "source": [
        "print(data['Suggested Job Role'].value_counts())"
      ]
    },
    {
      "cell_type": "code",
      "execution_count": null,
      "metadata": {
        "colab": {
          "base_uri": "https://localhost:8080/"
        },
        "id": "3is_gxL2WUp8",
        "outputId": "8765f292-98e0-48e1-b287-038566f69c38"
      },
      "outputs": [],
      "source": [
        "print(data.columns)"
      ]
    },
    {
      "cell_type": "markdown",
      "metadata": {
        "id": "3I9HzOa5KTLk"
      },
      "source": [
        "# **Feature Engineering**"
      ]
    },
    {
      "cell_type": "markdown",
      "metadata": {
        "id": "RSI6GXJEj8zv"
      },
      "source": [
        "### Encoding the categorical features"
      ]
    },
    {
      "cell_type": "code",
      "execution_count": null,
      "metadata": {
        "id": "0tkRIMqMjPrh"
      },
      "outputs": [],
      "source": [
        "## encoding \"self-learning capability?\" column.\n",
        "data.replace({'self-learning capability?':{'yes':1,'no':0}},inplace=True)\n",
        "\n",
        "\n",
        "\n",
        "## encoding \"Extra-courses did\" column.\n",
        "data.replace({'Extra-courses did':{'yes':1,'no':0}},inplace=True)\n",
        "\n",
        "\n",
        "\n",
        "## encoding \"certifications\" column.\n",
        "data.replace({'certifications':{'r programming' : 0,\n",
        "'information security': 1,\n",
        "'shell programming' : 2,\n",
        "'machine learning' : 3,\n",
        "'full stack': 4,\n",
        "'hadoop' : 5,\n",
        "'python' : 6,\n",
        "'distro making' : 7,\n",
        "'app development' : 8\n",
        "}},inplace=True)\n",
        "\n",
        "\n",
        "\n",
        "## encoding \"workshops\" column.\n",
        "data.replace({'workshops':{'database security' :0,\n",
        "'system designing' : 1,\n",
        "'web technologies' : 2,\n",
        "'hacking' : 3,\n",
        "'testing' : 4,\n",
        "'data science' : 5,\n",
        "'game development' : 6,\n",
        "'cloud computing' : 7\n",
        "}},inplace=True)\n",
        "\n",
        "\n",
        "\n",
        "## encoding \"reading and writing skills\" column.\n",
        "data.replace({'reading and writing skills':{'poor':0,'medium':1, 'excellent':2}},inplace=True)\n",
        "\n",
        "\n",
        "\n",
        "## encoding \"memory capability score\" column.\n",
        "data.replace({'memory capability score':{'poor':0,'medium':1, 'excellent':2}},inplace=True)\n",
        "\n",
        "\n",
        "\n",
        "## encoding \"Interested subjects\" column.\n",
        "data.replace({'Interested subjects':{'Software Engineering': 0, 'IOT': 1, 'cloud computing': 2, 'programming': 3, 'networks': 4,\n",
        "    'Computer Architecture': 5, 'data engineering': 6, 'hacking': 7, 'Management': 8, 'parallel computing': 9}},inplace=True)\n",
        "\n",
        "\n",
        "\n",
        "## encoding \"interested career area\" column.\n",
        "data.replace({'interested career area ':{'system developer': 0, 'security': 1, 'Business process analyst': 2, 'developer': 3, 'testing': 4,\n",
        "    'cloud computing': 5}},inplace=True)\n",
        "\n",
        "\n",
        "\n",
        "## encoding \"Type of company want to settle in?\" column.\n",
        "data.replace({'Type of company want to settle in?':{'Service Based': 0, 'Web Services': 1, 'BPA': 2, 'Testing and Maintainance Services': 3,\n",
        "    'Product based': 4, 'Finance': 5, 'Cloud Services': 6, 'product development': 7,\n",
        "    'Sales and Marketing': 8, 'SAaS services': 9}},inplace=True)\n",
        "\n",
        "\n",
        "\n",
        "## encoding \"Taken inputs from seniors or elders\" column.\n",
        "data.replace({'Taken inputs from seniors or elders':{'yes': 1, 'no': 0}},inplace=True)\n",
        "\n",
        "\n",
        "\n",
        "## encoding \"Interested Type of Books\" column.\n",
        "data.replace({'Interested Type of Books':{'Guide': 0, 'Health': 1, 'Self help': 2, 'Horror': 3, 'Biographies': 4, 'Science fiction': 5,\n",
        "    'Satire': 6, 'Childrens': 7, 'Autobiographies': 8, 'Prayer books': 9, 'Fantasy': 10, 'Journals': 11,\n",
        "    'Trilogy': 12, 'Anthology': 13, 'Encyclopedias': 14, 'Drama': 15, 'Mystery': 16, 'History': 17,\n",
        "    'Science': 18, 'Dictionaries': 19, 'Diaries': 20, 'Religion-Spirituality': 21, 'Action and Adventure': 22,\n",
        "    'Poetry': 23, 'Cookbooks': 24, 'Comics': 25, 'Art': 26, 'Travel': 27, 'Series': 28, 'Math': 29, 'Romance': 30}},inplace=True)\n",
        "\n",
        "\n",
        "\n",
        "## encoding \"Management or Technical\" column.\n",
        "data.replace({'Management or Technical':{'Management': 0, 'Technical': 1}},inplace=True)\n",
        "\n",
        "\n",
        "\n",
        "## encoding \"hard/smart worker\" column.\n",
        "data.replace({'hard/smart worker':{'hard worker': 0, 'smart worker': 1}},inplace=True)\n",
        "\n",
        "\n",
        "\n",
        "## encoding \"worked in teams ever?\" column.\n",
        "data.replace({'worked in teams ever?':{'yes': 1, 'no': 0}},inplace=True)\n",
        "\n",
        "\n",
        "\n",
        "## encoding \"Introvert\" column.\n",
        "data.replace({'Introvert':{'yes': 1, 'no': 0}},inplace=True)\n"
      ]
    },
    {
      "cell_type": "code",
      "execution_count": null,
      "metadata": {
        "id": "FfeovwOknKPJ"
      },
      "outputs": [],
      "source": [
        "X = data.drop(columns='Suggested Job Role', axis=1)\n",
        "Y = data['Suggested Job Role']"
      ]
    },
    {
      "cell_type": "markdown",
      "metadata": {
        "id": "kpbwCavZlICX"
      },
      "source": [
        "### Head Values"
      ]
    },
    {
      "cell_type": "code",
      "execution_count": null,
      "metadata": {
        "colab": {
          "base_uri": "https://localhost:8080/",
          "height": 345
        },
        "id": "PHuS8i_z0gwz",
        "outputId": "e34f9438-e8ad-4204-b4b7-5bdd208dd7d7"
      },
      "outputs": [],
      "source": [
        "data.head()"
      ]
    },
    {
      "cell_type": "markdown",
      "metadata": {
        "id": "KwcVYQLZF_Fh"
      },
      "source": [
        "### Model Training\n"
      ]
    },
    {
      "cell_type": "code",
      "execution_count": null,
      "metadata": {
        "collapsed": true,
        "id": "gHVVxUHgE_mQ"
      },
      "outputs": [],
      "source": [
        "import sklearn\n",
        "from sklearn.model_selection import train_test_split\n",
        "\n",
        "X_train, X_test, Y_train, Y_test = train_test_split(X, Y, test_size=0.2, random_state=2)"
      ]
    },
    {
      "cell_type": "code",
      "execution_count": null,
      "metadata": {
        "colab": {
          "base_uri": "https://localhost:8080/"
        },
        "id": "C5NYiXsqGJ6i",
        "outputId": "730843ff-4915-441d-ad85-f02aa2a2c4c0"
      },
      "outputs": [],
      "source": [
        "print(X.shape, X_train.shape, X_test.shape)"
      ]
    },
    {
      "cell_type": "code",
      "execution_count": null,
      "metadata": {
        "id": "Yq4HSPIg2Lpr"
      },
      "outputs": [],
      "source": [
        "from sklearn.metrics import accuracy_score, precision_score, recall_score, f1_score"
      ]
    },
    {
      "cell_type": "markdown",
      "metadata": {
        "id": "JNn6PlN-hpcL"
      },
      "source": [
        "### Decision Tree"
      ]
    },
    {
      "cell_type": "code",
      "execution_count": null,
      "metadata": {
        "colab": {
          "base_uri": "https://localhost:8080/"
        },
        "id": "Gta_bGoBG1AB",
        "outputId": "81e1d8b7-1b32-4118-98f1-546d8e866a8e"
      },
      "outputs": [],
      "source": [
        "from sklearn.neural_network import MLPClassifier\n",
        "from sklearn.metrics import precision_score, f1_score, accuracy_score, confusion_matrix\n",
        "\n",
        "# Define and train the ANN model\n",
        "ann_model = MLPClassifier(hidden_layer_sizes=(100, 100), activation='relu', solver='adam', random_state=1, max_iter=500)\n",
        "ann_model.fit(X_train, Y_train)\n",
        "\n",
        "# Predict on the test set\n",
        "Y_pred = ann_model.predict(X_test)\n",
        "\n",
        "# Evaluate the model\n",
        "print(\"Precision of ANN Classifier: \", precision_score(Y_test, Y_pred, average='weighted'))\n",
        "print(\"  \")\n",
        "\n",
        "print(\"F1-Score of ANN Classifier: \", f1_score(Y_test, Y_pred, average='weighted'))\n",
        "print(\"  \")\n",
        "\n",
        "accuracy = accuracy_score(Y_test, Y_pred)\n",
        "print(\"Accuracy Score of ANN Classifier: \", accuracy * 100)\n",
        "print(\"  \")\n",
        "\n",
        "cm = confusion_matrix(Y_test, Y_pred)\n",
        "print(\"Confusion Matrix = \")\n",
        "print(cm)\n"
      ]
    },
    {
      "cell_type": "code",
      "execution_count": null,
      "metadata": {
        "colab": {
          "base_uri": "https://localhost:8080/"
        },
        "id": "YoAV0aIAItSr",
        "outputId": "cfea9d2d-2226-4ca4-a43f-d3319553a2ad"
      },
      "outputs": [
        {
          "name": "stdout",
          "output_type": "stream",
          "text": [
            "Prediction : ['Applications Developer']\n",
            "Probabilities of all classes:  [[1. 0. 0. 0. 0. 0. 0. 0. 0. 0. 0. 0.]]\n",
            "Probability of Predicted class :  1.0\n"
          ]
        },
        {
          "name": "stderr",
          "output_type": "stream",
          "text": [
            "/usr/local/lib/python3.10/dist-packages/sklearn/base.py:493: UserWarning: X does not have valid feature names, but DecisionTreeClassifier was fitted with feature names\n",
            "  warnings.warn(\n",
            "/usr/local/lib/python3.10/dist-packages/sklearn/base.py:493: UserWarning: X does not have valid feature names, but DecisionTreeClassifier was fitted with feature names\n",
            "  warnings.warn(\n"
          ]
        }
      ],
      "source": [
        "# userdata = [['5','0','6','2','1','0','1','4','0','0','3','4','2','0','28','0','1','1','0']]\n",
        "userdata = [[5,0,6,2,1,0,1,4,0,0,3,4,2,0,28,0,1,1,0]]\n",
        "ynewclass = ann_model.predict(userdata)\n",
        "ynew = ann_model.predict_proba(userdata)\n",
        "print(\"Prediction :\",ynewclass)\n",
        "print(\"Probabilities of all classes: \", ynew)\n",
        "print(\"Probability of Predicted class : \", np.max(ynew))"
      ]
    },
    {
      "cell_type": "markdown",
      "metadata": {
        "id": "pSLaIswGiUXD"
      },
      "source": [
        "### SVM"
      ]
    },
    {
      "cell_type": "code",
      "execution_count": null,
      "metadata": {
        "colab": {
          "base_uri": "https://localhost:8080/"
        },
        "id": "bBumPiKJiWVS",
        "outputId": "08629ca8-f689-4c5e-9770-ab666dcd4d65"
      },
      "outputs": [],
      "source": [
        "from sklearn import svm\n",
        "\n",
        "svm = svm.SVC()\n",
        "svm.fit(X_train, Y_train)\n",
        "\n",
        "svm_y_pred = svm.predict(X_test)\n",
        "\n",
        "print(\"Precision of SVM Classifier: \",precision_score(Y_test, svm_y_pred, average='weighted'))\n",
        "print(\"  \")\n",
        "\n",
        "print(\"F1-Score of SVM Classifier: \",f1_score(Y_test, svm_y_pred, average='weighted'))\n",
        "print(\"  \")\n",
        "\n",
        "svm_accuracy = accuracy_score(Y_test,svm_y_pred)\n",
        "print(\"Accuracy Score of SVM Classifier: \",svm_accuracy*10)\n",
        "print(\"  \")\n",
        "\n",
        "\n",
        "svm_cm = confusion_matrix(Y_test,svm_y_pred)\n",
        "\n",
        "print(\"confusion matrics : \")\n",
        "print(svm_cm)\n",
        "\n"
      ]
    },
    {
      "cell_type": "code",
      "execution_count": null,
      "metadata": {
        "colab": {
          "base_uri": "https://localhost:8080/"
        },
        "id": "8uejI9xRmvOD",
        "outputId": "739c0d16-2a89-45dd-cae8-b3500cd535cf"
      },
      "outputs": [],
      "source": [
        "userdata = [['5','0','6','2','1','0','1','4','0','0','3','4','2','0','28','0','1','1','0']]\n",
        "ynewclass = svm.predict(userdata)\n",
        "ynew = svm.decision_function(userdata)\n",
        "print(\"Prediction :\",ynewclass)\n",
        "print(\"Probabilities of all classes: \", ynew)\n",
        "print(\"Probability of Predicted class : \", np.max(ynew))"
      ]
    },
    {
      "cell_type": "markdown",
      "metadata": {
        "id": "xjosdVNUk8WU"
      },
      "source": [
        "### Random Forest"
      ]
    },
    {
      "cell_type": "code",
      "execution_count": null,
      "metadata": {
        "colab": {
          "base_uri": "https://localhost:8080/"
        },
        "id": "H0IQEIh_j2ZI",
        "outputId": "87ad1c9a-3b71-47fe-d941-2813098f7eec"
      },
      "outputs": [],
      "source": [
        "from sklearn.ensemble import RandomForestClassifier\n",
        "\n",
        "rf = RandomForestClassifier(random_state = 10)\n",
        "rf.fit(X_train, Y_train)\n",
        "rfc_y_pred = rf.predict(X_test)\n",
        "\n",
        "print(\"Precision of RandomForest Classifier: \",precision_score(Y_test, rfc_y_pred, average='weighted'))\n",
        "print(\"  \")\n",
        "\n",
        "print(\"F1-Score of RandomForest Classifier: \",f1_score(Y_test, rfc_y_pred, average='weighted'))\n",
        "print(\"  \")\n",
        "\n",
        "rfc_accuracy = accuracy_score(Y_test,rfc_y_pred)\n",
        "print(\"Accuracy of RandomForest Classifier: \",rfc_accuracy*10)\n",
        "print(\"  \")\n",
        "\n",
        "rfc_cm = confusion_matrix(Y_test,rfc_y_pred)\n",
        "\n",
        "print(\"confusion matrics=\")\n",
        "print(rfc_cm)"
      ]
    },
    {
      "cell_type": "code",
      "execution_count": null,
      "metadata": {
        "colab": {
          "base_uri": "https://localhost:8080/"
        },
        "id": "pXKi7HKzoP9X",
        "outputId": "62af21db-c923-4ec3-f6d9-c1e97e669547"
      },
      "outputs": [],
      "source": [
        "userdata = [['5','0','6','2','1','0','1','4','0','0','3','4','2','0','28','0','1','1','0']]\n",
        "ynewclass = rf.predict(userdata)\n",
        "ynew = rf.predict_proba(userdata)\n",
        "print(\"Prediction :\",ynewclass)\n",
        "print(\"Probabilities of all classes: \", ynew)\n",
        "print(\"Probability of Predicted class : \", np.max(ynew))"
      ]
    },
    {
      "cell_type": "markdown",
      "metadata": {
        "id": "8K-Iv2aniCKu"
      },
      "source": [
        "### Create a .pkl file using Decision Tree"
      ]
    },
    {
      "cell_type": "code",
      "execution_count": null,
      "metadata": {
        "id": "Bq70djRMTK1e"
      },
      "outputs": [],
      "source": [
        "import pickle\n",
        "pickle.dump(ann_model,open('dtmodel.pkl','wb'))"
      ]
    },
    {
      "cell_type": "markdown",
      "metadata": {
        "id": "7CUaAitiq43I"
      },
      "source": [
        "### Create a .pkl file using Random Forest"
      ]
    },
    {
      "cell_type": "code",
      "execution_count": null,
      "metadata": {
        "id": "omjIepXaq22R"
      },
      "outputs": [],
      "source": [
        "import pickle\n",
        "pickle.dump(rf,open('rfmodel.pkl','wb'))"
      ]
    },
    {
      "cell_type": "code",
      "execution_count": null,
      "metadata": {
        "id": "4vSOfX_3cm7w"
      },
      "outputs": [],
      "source": [
        "##print(sklearn.__version__)\n",
        "##print(pd.__version__)"
      ]
    }
  ],
  "metadata": {
    "colab": {
      "provenance": []
    },
    "kernelspec": {
      "display_name": "Python 3",
      "name": "python3"
    },
    "language_info": {
      "name": "python",
      "version": "3.12.3"
    }
  },
  "nbformat": 4,
  "nbformat_minor": 0
}
